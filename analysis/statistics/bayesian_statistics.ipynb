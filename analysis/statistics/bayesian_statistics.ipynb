{
 "cells": [
  {
   "cell_type": "markdown",
   "metadata": {},
   "source": [
    "# A basic introduction to Bayesian Statistics is presented:\n",
    "\n",
    "# Bayesian statistics is about updating prior beliefs held about the likelihood of a situation happening based on new information.\n",
    "# It relies on fundamental principles within basic statistics and conditional probability."
   ]
  },
  {
   "cell_type": "markdown",
   "metadata": {},
   "source": [
    "# Consider the following example:\n",
    "\n",
    "# 10,000 people compose a population\n",
    "# It is known that a disease is carried by 100 of them (1%).\n",
    "# A test exists that can detect this disease with 80% accuracy for those with the disease.\n",
    "# This test is 75% accurate at detecting people that do not carry the disease.\n"
   ]
  },
  {
   "cell_type": "markdown",
   "metadata": {},
   "source": [
    "\n",
    "## A CLEARER EXPLANATION\n",
    "\n",
    "# When the test is described as 80% accurate for those with the disease, this means that if all the people that we know for a fact are carrying the disease were to take the test, 80% of those people would be successfully detected.\n",
    "\n",
    "# This is also the case for people that do not carry the disease. If all of the people that we know do not carry the disease were to take the test, 75% of those people would be diagnosed correctly (i.e. 75% of them would be correctly identified as not having the disease.)\n",
    "\n",
    "## Examples:\n",
    "\n",
    "We have a population of 10,000 - The following statements are TRUE (but is not known to us as those conducting the analysis):\n",
    "\n",
    "- 1% of these people carry the disease - this means 100 people (This is hidden knowledge - it is not known to us as those conducting the analysis)\n",
    "\n",
    "- If the 100 people carrying the disease took the test, we will have test results to support that 80 people (80% of 100 people) are carriers of the disease. The remaining 20 people will have results that suggest that they are not carrying the disease - these results are known as false negatives.\n",
    "\n",
    "- If the 900 people that do not carry the disease took the test, we will have test results to support that 675 people (75% of 900 people) are not carriers of the disease. The remaining 225 people will have results that suggest they are carrying the disease - these results are known as false positives. \n",
    "\n"
   ]
  },
  {
   "cell_type": "markdown",
   "metadata": {},
   "source": [
    "## Finding the probability that if you test positive, you actually have the disease\n",
    "\n",
    "The probability you actually having the disease, whilst knowing that you did a test and it returned positive, can be calculated by dividing the number of true positives (hidden knowledge), by the number of all positive test results.\n",
    "\n",
    "This is written in notation using:\n",
    " Let A = The event that you have the disease\n",
    " Let B = The event that you receive a positive test result\n",
    "\n",
    "Following this:\n",
    "Let p(A) = The probability of you having the disease\n",
    "Let p(B) = The probability of receiving a positive test result\n",
    "\n",
    "We would like to know:\n",
    "p(A|B) = The probability that you have the disease, given that you receive a positive test result.\n",
    "\n",
    "To explain this condition clearly:\n",
    "\n",
    "A|B is describing the event where you have the disease, with the information that you have received a positive test result.\n",
    "\n",
    "Other ways of writing this are (for your understanding):\n",
    "\n",
    "A|B is describing the event where you have the disease, given that you have received a positive test result.\n",
    "A|B is describing the event where you have the disease, whilst knowing that you have received a positive test result.\n",
    "A|B is describing the event where you have the disease, under the condition that you have received a positive test result.\n",
    "A|B is describing the event where you have the disease, conditional on you receiving a positive test result.\n",
    "\n",
    "NOTE: This is NOT saying A n B, where you have the disease AND you have received a positive test result. The difference is that A|B is describing the occurrence of Event A, in this scenario, Event B is already known to have occured. \n",
    "\n",
    "\n",
    "\n",
    "p(A|B') = p(B|A)p(A)/p(B|A')p(A')\n",
    "\n",
    "Imagine the probability of all outcomes as a multiverse, and each point within the Venn diagram is a universe with a potential outcome. If we want to find the probability of one event, given we know that another event has happened, we can use this model to visualise the result. A core fundamental concept in probability (the very definition of probability) is that the likelihood of an event happening. The probability of an event occuring can be determined by calculating the number of situations where a specific event occurs divided by all of the possible situations. We can extend this to match our example by considering all of the universes within which two events occur, A and B, if we want to know the conditional probability of A happening, we need to calculate the ratio of all of the unverses in which A and B occur, (A n B), and divide this by the number of events where only B occurs. "
   ]
  }
 ],
 "metadata": {
  "language_info": {
   "name": "python"
  }
 },
 "nbformat": 4,
 "nbformat_minor": 2
}
